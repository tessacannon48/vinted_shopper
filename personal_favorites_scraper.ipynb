{
 "cells": [
  {
   "cell_type": "markdown",
   "id": "ff995450",
   "metadata": {},
   "source": [
    "# Set-Up"
   ]
  },
  {
   "cell_type": "code",
   "execution_count": null,
   "id": "9e94cb40",
   "metadata": {},
   "outputs": [
    {
     "name": "stdout",
     "output_type": "stream",
     "text": [
      "Requirement already satisfied: appnope==0.1.4 in ./.venv/lib/python3.13/site-packages (from -r requirements.txt (line 1)) (0.1.4)\n",
      "Requirement already satisfied: asttokens==3.0.0 in ./.venv/lib/python3.13/site-packages (from -r requirements.txt (line 2)) (3.0.0)\n",
      "Requirement already satisfied: attrs==25.3.0 in ./.venv/lib/python3.13/site-packages (from -r requirements.txt (line 3)) (25.3.0)\n",
      "Requirement already satisfied: beautifulsoup4==4.13.4 in ./.venv/lib/python3.13/site-packages (from -r requirements.txt (line 4)) (4.13.4)\n",
      "Requirement already satisfied: certifi==2025.4.26 in ./.venv/lib/python3.13/site-packages (from -r requirements.txt (line 5)) (2025.4.26)\n",
      "Requirement already satisfied: charset-normalizer==3.4.2 in ./.venv/lib/python3.13/site-packages (from -r requirements.txt (line 6)) (3.4.2)\n",
      "Requirement already satisfied: comm==0.2.2 in ./.venv/lib/python3.13/site-packages (from -r requirements.txt (line 7)) (0.2.2)\n",
      "Requirement already satisfied: contourpy==1.3.2 in ./.venv/lib/python3.13/site-packages (from -r requirements.txt (line 8)) (1.3.2)\n",
      "Requirement already satisfied: cycler==0.12.1 in ./.venv/lib/python3.13/site-packages (from -r requirements.txt (line 9)) (0.12.1)\n",
      "Requirement already satisfied: debugpy==1.8.14 in ./.venv/lib/python3.13/site-packages (from -r requirements.txt (line 10)) (1.8.14)\n",
      "Requirement already satisfied: decorator==5.2.1 in ./.venv/lib/python3.13/site-packages (from -r requirements.txt (line 11)) (5.2.1)\n",
      "Requirement already satisfied: executing==2.2.0 in ./.venv/lib/python3.13/site-packages (from -r requirements.txt (line 12)) (2.2.0)\n",
      "Requirement already satisfied: fonttools==4.57.0 in ./.venv/lib/python3.13/site-packages (from -r requirements.txt (line 13)) (4.57.0)\n",
      "Requirement already satisfied: h11==0.16.0 in ./.venv/lib/python3.13/site-packages (from -r requirements.txt (line 14)) (0.16.0)\n",
      "Requirement already satisfied: idna==3.10 in ./.venv/lib/python3.13/site-packages (from -r requirements.txt (line 15)) (3.10)\n",
      "Requirement already satisfied: ipykernel==6.29.5 in ./.venv/lib/python3.13/site-packages (from -r requirements.txt (line 16)) (6.29.5)\n",
      "Requirement already satisfied: ipython==9.2.0 in ./.venv/lib/python3.13/site-packages (from -r requirements.txt (line 17)) (9.2.0)\n",
      "Requirement already satisfied: ipython_pygments_lexers==1.1.1 in ./.venv/lib/python3.13/site-packages (from -r requirements.txt (line 18)) (1.1.1)\n",
      "Requirement already satisfied: jedi==0.19.2 in ./.venv/lib/python3.13/site-packages (from -r requirements.txt (line 19)) (0.19.2)\n",
      "Requirement already satisfied: jupyter_client==8.6.3 in ./.venv/lib/python3.13/site-packages (from -r requirements.txt (line 20)) (8.6.3)\n",
      "Requirement already satisfied: jupyter_core==5.7.2 in ./.venv/lib/python3.13/site-packages (from -r requirements.txt (line 21)) (5.7.2)\n",
      "Requirement already satisfied: kiwisolver==1.4.8 in ./.venv/lib/python3.13/site-packages (from -r requirements.txt (line 22)) (1.4.8)\n",
      "Requirement already satisfied: langdetect==1.0.9 in ./.venv/lib/python3.13/site-packages (from -r requirements.txt (line 23)) (1.0.9)\n",
      "Requirement already satisfied: matplotlib==3.10.1 in ./.venv/lib/python3.13/site-packages (from -r requirements.txt (line 24)) (3.10.1)\n",
      "Requirement already satisfied: matplotlib-inline==0.1.7 in ./.venv/lib/python3.13/site-packages (from -r requirements.txt (line 25)) (0.1.7)\n",
      "Requirement already satisfied: narwhals==1.37.1 in ./.venv/lib/python3.13/site-packages (from -r requirements.txt (line 26)) (1.37.1)\n",
      "Requirement already satisfied: nest-asyncio==1.6.0 in ./.venv/lib/python3.13/site-packages (from -r requirements.txt (line 27)) (1.6.0)\n",
      "Requirement already satisfied: numpy==2.2.5 in ./.venv/lib/python3.13/site-packages (from -r requirements.txt (line 28)) (2.2.5)\n",
      "Requirement already satisfied: outcome==1.3.0.post0 in ./.venv/lib/python3.13/site-packages (from -r requirements.txt (line 29)) (1.3.0.post0)\n",
      "Requirement already satisfied: packaging==25.0 in ./.venv/lib/python3.13/site-packages (from -r requirements.txt (line 30)) (25.0)\n",
      "Requirement already satisfied: pandas==2.2.3 in ./.venv/lib/python3.13/site-packages (from -r requirements.txt (line 31)) (2.2.3)\n",
      "Requirement already satisfied: parso==0.8.4 in ./.venv/lib/python3.13/site-packages (from -r requirements.txt (line 32)) (0.8.4)\n",
      "Requirement already satisfied: pexpect==4.9.0 in ./.venv/lib/python3.13/site-packages (from -r requirements.txt (line 33)) (4.9.0)\n",
      "Requirement already satisfied: pillow==11.2.1 in ./.venv/lib/python3.13/site-packages (from -r requirements.txt (line 34)) (11.2.1)\n",
      "Requirement already satisfied: platformdirs==4.3.7 in ./.venv/lib/python3.13/site-packages (from -r requirements.txt (line 35)) (4.3.7)\n",
      "Requirement already satisfied: plotly==6.0.1 in ./.venv/lib/python3.13/site-packages (from -r requirements.txt (line 36)) (6.0.1)\n",
      "Requirement already satisfied: prompt_toolkit==3.0.51 in ./.venv/lib/python3.13/site-packages (from -r requirements.txt (line 37)) (3.0.51)\n",
      "Requirement already satisfied: psutil==7.0.0 in ./.venv/lib/python3.13/site-packages (from -r requirements.txt (line 38)) (7.0.0)\n",
      "Requirement already satisfied: ptyprocess==0.7.0 in ./.venv/lib/python3.13/site-packages (from -r requirements.txt (line 39)) (0.7.0)\n",
      "Requirement already satisfied: pure_eval==0.2.3 in ./.venv/lib/python3.13/site-packages (from -r requirements.txt (line 40)) (0.2.3)\n",
      "Requirement already satisfied: Pygments==2.19.1 in ./.venv/lib/python3.13/site-packages (from -r requirements.txt (line 41)) (2.19.1)\n",
      "Requirement already satisfied: pyparsing==3.2.3 in ./.venv/lib/python3.13/site-packages (from -r requirements.txt (line 42)) (3.2.3)\n",
      "Requirement already satisfied: PySocks==1.7.1 in ./.venv/lib/python3.13/site-packages (from -r requirements.txt (line 43)) (1.7.1)\n",
      "Requirement already satisfied: python-dateutil==2.9.0.post0 in ./.venv/lib/python3.13/site-packages (from -r requirements.txt (line 44)) (2.9.0.post0)\n",
      "Requirement already satisfied: pytz==2025.2 in ./.venv/lib/python3.13/site-packages (from -r requirements.txt (line 45)) (2025.2)\n",
      "Requirement already satisfied: pyzmq==26.4.0 in ./.venv/lib/python3.13/site-packages (from -r requirements.txt (line 46)) (26.4.0)\n",
      "Requirement already satisfied: requests==2.32.3 in ./.venv/lib/python3.13/site-packages (from -r requirements.txt (line 47)) (2.32.3)\n",
      "Requirement already satisfied: seaborn==0.13.2 in ./.venv/lib/python3.13/site-packages (from -r requirements.txt (line 48)) (0.13.2)\n",
      "Requirement already satisfied: selenium==4.32.0 in ./.venv/lib/python3.13/site-packages (from -r requirements.txt (line 49)) (4.32.0)\n",
      "Requirement already satisfied: six==1.17.0 in ./.venv/lib/python3.13/site-packages (from -r requirements.txt (line 50)) (1.17.0)\n",
      "Requirement already satisfied: sniffio==1.3.1 in ./.venv/lib/python3.13/site-packages (from -r requirements.txt (line 51)) (1.3.1)\n",
      "Requirement already satisfied: sortedcontainers==2.4.0 in ./.venv/lib/python3.13/site-packages (from -r requirements.txt (line 52)) (2.4.0)\n",
      "Requirement already satisfied: soupsieve==2.7 in ./.venv/lib/python3.13/site-packages (from -r requirements.txt (line 53)) (2.7)\n",
      "Requirement already satisfied: stack-data==0.6.3 in ./.venv/lib/python3.13/site-packages (from -r requirements.txt (line 54)) (0.6.3)\n",
      "Requirement already satisfied: tornado==6.4.2 in ./.venv/lib/python3.13/site-packages (from -r requirements.txt (line 55)) (6.4.2)\n",
      "Requirement already satisfied: traitlets==5.14.3 in ./.venv/lib/python3.13/site-packages (from -r requirements.txt (line 56)) (5.14.3)\n",
      "Requirement already satisfied: trio==0.30.0 in ./.venv/lib/python3.13/site-packages (from -r requirements.txt (line 57)) (0.30.0)\n",
      "Requirement already satisfied: trio-websocket==0.12.2 in ./.venv/lib/python3.13/site-packages (from -r requirements.txt (line 58)) (0.12.2)\n",
      "Requirement already satisfied: typing_extensions==4.13.2 in ./.venv/lib/python3.13/site-packages (from -r requirements.txt (line 59)) (4.13.2)\n",
      "Requirement already satisfied: tzdata==2025.2 in ./.venv/lib/python3.13/site-packages (from -r requirements.txt (line 60)) (2025.2)\n",
      "Requirement already satisfied: urllib3==2.4.0 in ./.venv/lib/python3.13/site-packages (from -r requirements.txt (line 61)) (2.4.0)\n",
      "Requirement already satisfied: wcwidth==0.2.13 in ./.venv/lib/python3.13/site-packages (from -r requirements.txt (line 62)) (0.2.13)\n",
      "Requirement already satisfied: websocket-client==1.8.0 in ./.venv/lib/python3.13/site-packages (from -r requirements.txt (line 63)) (1.8.0)\n",
      "Requirement already satisfied: wsproto==1.2.0 in ./.venv/lib/python3.13/site-packages (from -r requirements.txt (line 64)) (1.2.0)\n"
     ]
    }
   ],
   "source": [
    "# Install requirements\n",
    "\n",
    "#!pip install -r requirements.txt"
   ]
  },
  {
   "cell_type": "code",
   "execution_count": 3,
   "id": "c0666665",
   "metadata": {},
   "outputs": [],
   "source": [
    "# Import packages\n",
    "\n",
    "import time\n",
    "import pandas as pd\n",
    "from bs4 import BeautifulSoup\n",
    "from selenium import webdriver\n",
    "from selenium.webdriver.common.by import By\n",
    "from selenium.webdriver.chrome.options import Options"
   ]
  },
  {
   "cell_type": "markdown",
   "id": "39e4618e",
   "metadata": {},
   "source": [
    "# Personal Data Scraper (Manual Login)"
   ]
  },
  {
   "cell_type": "code",
   "execution_count": null,
   "id": "06f865a0",
   "metadata": {},
   "outputs": [],
   "source": [
    "def scrape_vinted_favourites(max_pages=3, save_csv=True):\n",
    "    options = Options()\n",
    "    # 🧠 Don't use headless so you can manually log in\n",
    "    options.add_argument(\"--disable-gpu\")\n",
    "    options.add_argument(\"--window-size=1920,1080\")\n",
    "\n",
    "    driver = webdriver.Chrome(options=options)\n",
    "\n",
    "    try:\n",
    "        # 1. Go to Vinted login page\n",
    "        driver.get(\"https://www.vinted.co.uk/member/signup/select_type?ref_url=%2F\")\n",
    "        print(\"🔐 Please manually log in to your Vinted account...\")\n",
    "\n",
    "        # 2. Wait for manual login\n",
    "        input(\"✅ Press Enter here once you are logged in...\")\n",
    "\n",
    "        # 3. Go to Favourites page\n",
    "        results = []\n",
    "        for page in range(1, max_pages + 1):\n",
    "            print(f\"📄 Scraping favourites page {page}...\")\n",
    "            driver.get(f\"https://www.vinted.co.uk/favourites?page={page}\")\n",
    "            time.sleep(3)  # wait for JS to load\n",
    "\n",
    "            soup = BeautifulSoup(driver.page_source, 'html.parser')\n",
    "            items = soup.find_all(\"div\", class_=\"feed-grid__item\")\n",
    "\n",
    "            if not items:\n",
    "                print(f\"⚠️ No items found on page {page}\")\n",
    "                break\n",
    "\n",
    "            for item in items:\n",
    "                link_tag = item.find(\"a\", href=True)\n",
    "                img_tag = item.find(\"img\")\n",
    "\n",
    "                item_url = \"https://www.vinted.co.uk\" + link_tag[\"href\"] if link_tag else None\n",
    "                image_url = img_tag[\"src\"] if img_tag else None\n",
    "                alt_text = img_tag.get(\"alt\", \"\").strip()\n",
    "\n",
    "                results.append({\n",
    "                    \"title\": alt_text,\n",
    "                    \"item_url\": item_url,\n",
    "                    \"image_url\": image_url\n",
    "                })\n",
    "\n",
    "        df = pd.DataFrame(results)\n",
    "        print(f\"✅ Scraped {len(df)} items.\")\n",
    "\n",
    "        if save_csv:\n",
    "            df.to_csv(\"vinted_favourites.csv\", index=False)\n",
    "            print(\"💾 Saved to vinted_favourites.csv\")\n",
    "\n",
    "        return df\n",
    "\n",
    "    finally:\n",
    "        driver.quit()"
   ]
  },
  {
   "cell_type": "code",
   "execution_count": null,
   "id": "ef137d85",
   "metadata": {},
   "outputs": [
    {
     "name": "stdout",
     "output_type": "stream",
     "text": [
      "🔐 Please manually log in to your Vinted account...\n"
     ]
    },
    {
     "ename": "KeyboardInterrupt",
     "evalue": "Interrupted by user",
     "output_type": "error",
     "traceback": [
      "\u001b[31m---------------------------------------------------------------------------\u001b[39m",
      "\u001b[31mKeyboardInterrupt\u001b[39m                         Traceback (most recent call last)",
      "\u001b[36mCell\u001b[39m\u001b[36m \u001b[39m\u001b[32mIn[7]\u001b[39m\u001b[32m, line 1\u001b[39m\n\u001b[32m----> \u001b[39m\u001b[32m1\u001b[39m df = \u001b[43mscrape_vinted_favourites_after_manual_login\u001b[49m\u001b[43m(\u001b[49m\u001b[43mmax_pages\u001b[49m\u001b[43m=\u001b[49m\u001b[32;43m2\u001b[39;49m\u001b[43m)\u001b[49m\n",
      "\u001b[36mCell\u001b[39m\u001b[36m \u001b[39m\u001b[32mIn[6]\u001b[39m\u001b[32m, line 15\u001b[39m, in \u001b[36mscrape_vinted_favourites_after_manual_login\u001b[39m\u001b[34m(max_pages, save_csv)\u001b[39m\n\u001b[32m     12\u001b[39m \u001b[38;5;28mprint\u001b[39m(\u001b[33m\"\u001b[39m\u001b[33m🔐 Please manually log in to your Vinted account...\u001b[39m\u001b[33m\"\u001b[39m)\n\u001b[32m     14\u001b[39m \u001b[38;5;66;03m# 2. Wait for manual login\u001b[39;00m\n\u001b[32m---> \u001b[39m\u001b[32m15\u001b[39m \u001b[38;5;28;43minput\u001b[39;49m\u001b[43m(\u001b[49m\u001b[33;43m\"\u001b[39;49m\u001b[33;43m✅ Press Enter here once you are logged in...\u001b[39;49m\u001b[33;43m\"\u001b[39;49m\u001b[43m)\u001b[49m\n\u001b[32m     17\u001b[39m \u001b[38;5;66;03m# 3. Go to Favourites page\u001b[39;00m\n\u001b[32m     18\u001b[39m results = []\n",
      "\u001b[36mFile \u001b[39m\u001b[32m~/Documents/Vinted Project/.venv/lib/python3.13/site-packages/ipykernel/kernelbase.py:1282\u001b[39m, in \u001b[36mKernel.raw_input\u001b[39m\u001b[34m(self, prompt)\u001b[39m\n\u001b[32m   1280\u001b[39m     msg = \u001b[33m\"\u001b[39m\u001b[33mraw_input was called, but this frontend does not support input requests.\u001b[39m\u001b[33m\"\u001b[39m\n\u001b[32m   1281\u001b[39m     \u001b[38;5;28;01mraise\u001b[39;00m StdinNotImplementedError(msg)\n\u001b[32m-> \u001b[39m\u001b[32m1282\u001b[39m \u001b[38;5;28;01mreturn\u001b[39;00m \u001b[38;5;28;43mself\u001b[39;49m\u001b[43m.\u001b[49m\u001b[43m_input_request\u001b[49m\u001b[43m(\u001b[49m\n\u001b[32m   1283\u001b[39m \u001b[43m    \u001b[49m\u001b[38;5;28;43mstr\u001b[39;49m\u001b[43m(\u001b[49m\u001b[43mprompt\u001b[49m\u001b[43m)\u001b[49m\u001b[43m,\u001b[49m\n\u001b[32m   1284\u001b[39m \u001b[43m    \u001b[49m\u001b[38;5;28;43mself\u001b[39;49m\u001b[43m.\u001b[49m\u001b[43m_parent_ident\u001b[49m\u001b[43m[\u001b[49m\u001b[33;43m\"\u001b[39;49m\u001b[33;43mshell\u001b[39;49m\u001b[33;43m\"\u001b[39;49m\u001b[43m]\u001b[49m\u001b[43m,\u001b[49m\n\u001b[32m   1285\u001b[39m \u001b[43m    \u001b[49m\u001b[38;5;28;43mself\u001b[39;49m\u001b[43m.\u001b[49m\u001b[43mget_parent\u001b[49m\u001b[43m(\u001b[49m\u001b[33;43m\"\u001b[39;49m\u001b[33;43mshell\u001b[39;49m\u001b[33;43m\"\u001b[39;49m\u001b[43m)\u001b[49m\u001b[43m,\u001b[49m\n\u001b[32m   1286\u001b[39m \u001b[43m    \u001b[49m\u001b[43mpassword\u001b[49m\u001b[43m=\u001b[49m\u001b[38;5;28;43;01mFalse\u001b[39;49;00m\u001b[43m,\u001b[49m\n\u001b[32m   1287\u001b[39m \u001b[43m\u001b[49m\u001b[43m)\u001b[49m\n",
      "\u001b[36mFile \u001b[39m\u001b[32m~/Documents/Vinted Project/.venv/lib/python3.13/site-packages/ipykernel/kernelbase.py:1325\u001b[39m, in \u001b[36mKernel._input_request\u001b[39m\u001b[34m(self, prompt, ident, parent, password)\u001b[39m\n\u001b[32m   1322\u001b[39m \u001b[38;5;28;01mexcept\u001b[39;00m \u001b[38;5;167;01mKeyboardInterrupt\u001b[39;00m:\n\u001b[32m   1323\u001b[39m     \u001b[38;5;66;03m# re-raise KeyboardInterrupt, to truncate traceback\u001b[39;00m\n\u001b[32m   1324\u001b[39m     msg = \u001b[33m\"\u001b[39m\u001b[33mInterrupted by user\u001b[39m\u001b[33m\"\u001b[39m\n\u001b[32m-> \u001b[39m\u001b[32m1325\u001b[39m     \u001b[38;5;28;01mraise\u001b[39;00m \u001b[38;5;167;01mKeyboardInterrupt\u001b[39;00m(msg) \u001b[38;5;28;01mfrom\u001b[39;00m\u001b[38;5;250m \u001b[39m\u001b[38;5;28;01mNone\u001b[39;00m\n\u001b[32m   1326\u001b[39m \u001b[38;5;28;01mexcept\u001b[39;00m \u001b[38;5;167;01mException\u001b[39;00m:\n\u001b[32m   1327\u001b[39m     \u001b[38;5;28mself\u001b[39m.log.warning(\u001b[33m\"\u001b[39m\u001b[33mInvalid Message:\u001b[39m\u001b[33m\"\u001b[39m, exc_info=\u001b[38;5;28;01mTrue\u001b[39;00m)\n",
      "\u001b[31mKeyboardInterrupt\u001b[39m: Interrupted by user"
     ]
    }
   ],
   "source": [
    "df = scrape_vinted_favourites(max_pages=5)"
   ]
  },
  {
   "cell_type": "code",
   "execution_count": null,
   "id": "8ebb3e5a",
   "metadata": {},
   "outputs": [],
   "source": [
    "# Display df\n",
    "\n",
    "display(df)"
   ]
  }
 ],
 "metadata": {
  "kernelspec": {
   "display_name": ".venv",
   "language": "python",
   "name": "python3"
  },
  "language_info": {
   "codemirror_mode": {
    "name": "ipython",
    "version": 3
   },
   "file_extension": ".py",
   "mimetype": "text/x-python",
   "name": "python",
   "nbconvert_exporter": "python",
   "pygments_lexer": "ipython3",
   "version": "3.13.2"
  }
 },
 "nbformat": 4,
 "nbformat_minor": 5
}
